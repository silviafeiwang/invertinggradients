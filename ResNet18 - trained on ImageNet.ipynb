{
 "cells": [
  {
   "cell_type": "code",
   "execution_count": 1,
   "metadata": {},
   "outputs": [
    {
     "name": "stderr",
     "output_type": "stream",
     "text": [
      "/Users/feiwang/miniforge3/envs/ff/lib/python3.9/site-packages/tqdm/auto.py:22: TqdmWarning: IProgress not found. Please update jupyter and ipywidgets. See https://ipywidgets.readthedocs.io/en/stable/user_install.html\n",
      "  from .autonotebook import tqdm as notebook_tqdm\n"
     ]
    }
   ],
   "source": [
    "import torch\n",
    "import torchvision\n",
    "\n",
    "import numpy as np\n",
    "import matplotlib.pyplot as plt\n",
    "from collections import defaultdict\n",
    "from PIL import Image"
   ]
  },
  {
   "cell_type": "markdown",
   "metadata": {},
   "source": [
    "# Choose variants here:"
   ]
  },
  {
   "cell_type": "code",
   "execution_count": 2,
   "metadata": {},
   "outputs": [],
   "source": [
    "trained_model = True\n",
    "arch = 'ResNet18'"
   ]
  },
  {
   "cell_type": "markdown",
   "metadata": {},
   "source": [
    "## System setup:"
   ]
  },
  {
   "cell_type": "code",
   "execution_count": 17,
   "metadata": {},
   "outputs": [
    {
     "name": "stdout",
     "output_type": "stream",
     "text": [
      "Currently evaluating -------------------------------:\n",
      "Wednesday, 20. September 2023 11:25AM\n",
      "CPUs: 10, GPUs: 0 on miami.csl.utoronto.ca.\n"
     ]
    },
    {
     "ename": "RuntimeError",
     "evalue": "The archive ILSVRC2012_devkit_t12.tar.gz is not present in the root directory or is corrupted. You need to download it externally and place it in data/imagenet.",
     "output_type": "error",
     "traceback": [
      "\u001b[0;31m---------------------------------------------------------------------------\u001b[0m",
      "\u001b[0;31mRuntimeError\u001b[0m                              Traceback (most recent call last)",
      "Cell \u001b[0;32mIn[17], line 5\u001b[0m\n\u001b[1;32m      2\u001b[0m setup \u001b[39m=\u001b[39m inversefed\u001b[39m.\u001b[39mutils\u001b[39m.\u001b[39msystem_startup()\n\u001b[1;32m      3\u001b[0m defs \u001b[39m=\u001b[39m inversefed\u001b[39m.\u001b[39mtraining_strategy(\u001b[39m'\u001b[39m\u001b[39mconservative\u001b[39m\u001b[39m'\u001b[39m)\n\u001b[0;32m----> 5\u001b[0m loss_fn, trainloader, validloader \u001b[39m=\u001b[39m  inversefed\u001b[39m.\u001b[39;49mconstruct_dataloaders(\u001b[39m'\u001b[39;49m\u001b[39mImageNet\u001b[39;49m\u001b[39m'\u001b[39;49m, defs, \n\u001b[1;32m      6\u001b[0m                                                                       data_path\u001b[39m=\u001b[39;49m\u001b[39m'\u001b[39;49m\u001b[39mdata/imagenet\u001b[39;49m\u001b[39m'\u001b[39;49m)\n\u001b[1;32m      8\u001b[0m model \u001b[39m=\u001b[39m torchvision\u001b[39m.\u001b[39mmodels\u001b[39m.\u001b[39mresnet18(pretrained\u001b[39m=\u001b[39mtrained_model)\n\u001b[1;32m      9\u001b[0m model\u001b[39m.\u001b[39mto(\u001b[39m*\u001b[39m\u001b[39m*\u001b[39msetup)\n",
      "File \u001b[0;32m~/GitHub/invertinggradients/inversefed/data/data_processing.py:33\u001b[0m, in \u001b[0;36mconstruct_dataloaders\u001b[0;34m(dataset, defs, data_path, shuffle, normalize)\u001b[0m\n\u001b[1;32m     31\u001b[0m     loss_fn \u001b[39m=\u001b[39m Classification()\n\u001b[1;32m     32\u001b[0m \u001b[39melif\u001b[39;00m dataset \u001b[39m==\u001b[39m \u001b[39m'\u001b[39m\u001b[39mImageNet\u001b[39m\u001b[39m'\u001b[39m:\n\u001b[0;32m---> 33\u001b[0m     trainset, validset \u001b[39m=\u001b[39m _build_imagenet(path, defs\u001b[39m.\u001b[39;49maugmentations, normalize)\n\u001b[1;32m     34\u001b[0m     loss_fn \u001b[39m=\u001b[39m Classification()\n\u001b[1;32m     35\u001b[0m \u001b[39melif\u001b[39;00m dataset \u001b[39m==\u001b[39m \u001b[39m'\u001b[39m\u001b[39mBSDS-SR\u001b[39m\u001b[39m'\u001b[39m:\n",
      "File \u001b[0;32m~/GitHub/invertinggradients/inversefed/data/data_processing.py:177\u001b[0m, in \u001b[0;36m_build_imagenet\u001b[0;34m(data_path, augmentations, normalize)\u001b[0m\n\u001b[1;32m    175\u001b[0m \u001b[39m\u001b[39m\u001b[39m\"\"\"Define ImageNet with everything considered.\"\"\"\u001b[39;00m\n\u001b[1;32m    176\u001b[0m \u001b[39m# Load data\u001b[39;00m\n\u001b[0;32m--> 177\u001b[0m trainset \u001b[39m=\u001b[39m torchvision\u001b[39m.\u001b[39;49mdatasets\u001b[39m.\u001b[39;49mImageNet(root\u001b[39m=\u001b[39;49mdata_path, split\u001b[39m=\u001b[39;49m\u001b[39m'\u001b[39;49m\u001b[39mtrain\u001b[39;49m\u001b[39m'\u001b[39;49m, transform\u001b[39m=\u001b[39;49mtransforms\u001b[39m.\u001b[39;49mToTensor())\n\u001b[1;32m    178\u001b[0m validset \u001b[39m=\u001b[39m torchvision\u001b[39m.\u001b[39mdatasets\u001b[39m.\u001b[39mImageNet(root\u001b[39m=\u001b[39mdata_path, split\u001b[39m=\u001b[39m\u001b[39m'\u001b[39m\u001b[39mval\u001b[39m\u001b[39m'\u001b[39m, transform\u001b[39m=\u001b[39mtransforms\u001b[39m.\u001b[39mToTensor())\n\u001b[1;32m    180\u001b[0m \u001b[39mif\u001b[39;00m imagenet_mean \u001b[39mis\u001b[39;00m \u001b[39mNone\u001b[39;00m:\n",
      "File \u001b[0;32m~/miniforge3/envs/ff/lib/python3.9/site-packages/torchvision/datasets/imagenet.py:46\u001b[0m, in \u001b[0;36mImageNet.__init__\u001b[0;34m(self, root, split, **kwargs)\u001b[0m\n\u001b[1;32m     43\u001b[0m root \u001b[39m=\u001b[39m \u001b[39mself\u001b[39m\u001b[39m.\u001b[39mroot \u001b[39m=\u001b[39m os\u001b[39m.\u001b[39mpath\u001b[39m.\u001b[39mexpanduser(root)\n\u001b[1;32m     44\u001b[0m \u001b[39mself\u001b[39m\u001b[39m.\u001b[39msplit \u001b[39m=\u001b[39m verify_str_arg(split, \u001b[39m\"\u001b[39m\u001b[39msplit\u001b[39m\u001b[39m\"\u001b[39m, (\u001b[39m\"\u001b[39m\u001b[39mtrain\u001b[39m\u001b[39m\"\u001b[39m, \u001b[39m\"\u001b[39m\u001b[39mval\u001b[39m\u001b[39m\"\u001b[39m))\n\u001b[0;32m---> 46\u001b[0m \u001b[39mself\u001b[39;49m\u001b[39m.\u001b[39;49mparse_archives()\n\u001b[1;32m     47\u001b[0m wnid_to_classes \u001b[39m=\u001b[39m load_meta_file(\u001b[39mself\u001b[39m\u001b[39m.\u001b[39mroot)[\u001b[39m0\u001b[39m]\n\u001b[1;32m     49\u001b[0m \u001b[39msuper\u001b[39m()\u001b[39m.\u001b[39m\u001b[39m__init__\u001b[39m(\u001b[39mself\u001b[39m\u001b[39m.\u001b[39msplit_folder, \u001b[39m*\u001b[39m\u001b[39m*\u001b[39mkwargs)\n",
      "File \u001b[0;32m~/miniforge3/envs/ff/lib/python3.9/site-packages/torchvision/datasets/imagenet.py:59\u001b[0m, in \u001b[0;36mImageNet.parse_archives\u001b[0;34m(self)\u001b[0m\n\u001b[1;32m     57\u001b[0m \u001b[39mdef\u001b[39;00m \u001b[39mparse_archives\u001b[39m(\u001b[39mself\u001b[39m) \u001b[39m-\u001b[39m\u001b[39m>\u001b[39m \u001b[39mNone\u001b[39;00m:\n\u001b[1;32m     58\u001b[0m     \u001b[39mif\u001b[39;00m \u001b[39mnot\u001b[39;00m check_integrity(os\u001b[39m.\u001b[39mpath\u001b[39m.\u001b[39mjoin(\u001b[39mself\u001b[39m\u001b[39m.\u001b[39mroot, META_FILE)):\n\u001b[0;32m---> 59\u001b[0m         parse_devkit_archive(\u001b[39mself\u001b[39;49m\u001b[39m.\u001b[39;49mroot)\n\u001b[1;32m     61\u001b[0m     \u001b[39mif\u001b[39;00m \u001b[39mnot\u001b[39;00m os\u001b[39m.\u001b[39mpath\u001b[39m.\u001b[39misdir(\u001b[39mself\u001b[39m\u001b[39m.\u001b[39msplit_folder):\n\u001b[1;32m     62\u001b[0m         \u001b[39mif\u001b[39;00m \u001b[39mself\u001b[39m\u001b[39m.\u001b[39msplit \u001b[39m==\u001b[39m \u001b[39m\"\u001b[39m\u001b[39mtrain\u001b[39m\u001b[39m\"\u001b[39m:\n",
      "File \u001b[0;32m~/miniforge3/envs/ff/lib/python3.9/site-packages/torchvision/datasets/imagenet.py:140\u001b[0m, in \u001b[0;36mparse_devkit_archive\u001b[0;34m(root, file)\u001b[0m\n\u001b[1;32m    137\u001b[0m     file \u001b[39m=\u001b[39m archive_meta[\u001b[39m0\u001b[39m]\n\u001b[1;32m    138\u001b[0m md5 \u001b[39m=\u001b[39m archive_meta[\u001b[39m1\u001b[39m]\n\u001b[0;32m--> 140\u001b[0m _verify_archive(root, file, md5)\n\u001b[1;32m    142\u001b[0m \u001b[39mwith\u001b[39;00m get_tmp_dir() \u001b[39mas\u001b[39;00m tmp_dir:\n\u001b[1;32m    143\u001b[0m     extract_archive(os\u001b[39m.\u001b[39mpath\u001b[39m.\u001b[39mjoin(root, file), tmp_dir)\n",
      "File \u001b[0;32m~/miniforge3/envs/ff/lib/python3.9/site-packages/torchvision/datasets/imagenet.py:96\u001b[0m, in \u001b[0;36m_verify_archive\u001b[0;34m(root, file, md5)\u001b[0m\n\u001b[1;32m     91\u001b[0m \u001b[39mif\u001b[39;00m \u001b[39mnot\u001b[39;00m check_integrity(os\u001b[39m.\u001b[39mpath\u001b[39m.\u001b[39mjoin(root, file), md5):\n\u001b[1;32m     92\u001b[0m     msg \u001b[39m=\u001b[39m (\n\u001b[1;32m     93\u001b[0m         \u001b[39m\"\u001b[39m\u001b[39mThe archive \u001b[39m\u001b[39m{}\u001b[39;00m\u001b[39m is not present in the root directory or is corrupted. \u001b[39m\u001b[39m\"\u001b[39m\n\u001b[1;32m     94\u001b[0m         \u001b[39m\"\u001b[39m\u001b[39mYou need to download it externally and place it in \u001b[39m\u001b[39m{}\u001b[39;00m\u001b[39m.\u001b[39m\u001b[39m\"\u001b[39m\n\u001b[1;32m     95\u001b[0m     )\n\u001b[0;32m---> 96\u001b[0m     \u001b[39mraise\u001b[39;00m \u001b[39mRuntimeError\u001b[39;00m(msg\u001b[39m.\u001b[39mformat(file, root))\n",
      "\u001b[0;31mRuntimeError\u001b[0m: The archive ILSVRC2012_devkit_t12.tar.gz is not present in the root directory or is corrupted. You need to download it externally and place it in data/imagenet."
     ]
    }
   ],
   "source": [
    "import inversefed\n",
    "setup = inversefed.utils.system_startup()\n",
    "defs = inversefed.training_strategy('conservative')\n",
    "\n",
    "loss_fn, trainloader, validloader =  inversefed.construct_dataloaders('ImageNet', defs, \n",
    "                                                                      data_path='data/imagenet')\n",
    "\n",
    "model = torchvision.models.resnet18(pretrained=trained_model)\n",
    "model.to(**setup)\n",
    "model.eval();"
   ]
  },
  {
   "cell_type": "code",
   "execution_count": 9,
   "metadata": {},
   "outputs": [],
   "source": [
    "dm = torch.as_tensor(inversefed.consts.cifar10_mean, **setup)[:, None, None]\n",
    "ds = torch.as_tensor(inversefed.consts.cifar10_std, **setup)[:, None, None]\n",
    "def plot(tensor):\n",
    "    tensor = tensor.clone().detach()\n",
    "    tensor.mul_(ds).add_(dm).clamp_(0, 1)\n",
    "    if tensor.shape[0] == 1:\n",
    "        return plt.imshow(tensor[0].permute(1, 2, 0).cpu());\n",
    "    else:\n",
    "        fig, axes = plt.subplots(1, tensor.shape[0], figsize=(12, tensor.shape[0]*12))\n",
    "        for i, im in enumerate(tensor):\n",
    "            axes[i].imshow(im.permute(1, 2, 0).cpu());"
   ]
  },
  {
   "cell_type": "markdown",
   "metadata": {},
   "source": [
    "# Reconstruct"
   ]
  },
  {
   "cell_type": "markdown",
   "metadata": {},
   "source": [
    "### Build the input (ground-truth) gradient"
   ]
  },
  {
   "cell_type": "code",
   "execution_count": 10,
   "metadata": {},
   "outputs": [
    {
     "ename": "NameError",
     "evalue": "name 'validloader' is not defined",
     "output_type": "error",
     "traceback": [
      "\u001b[0;31m---------------------------------------------------------------------------\u001b[0m",
      "\u001b[0;31mNameError\u001b[0m                                 Traceback (most recent call last)",
      "Cell \u001b[0;32mIn[10], line 10\u001b[0m\n\u001b[1;32m      1\u001b[0m idx \u001b[39m=\u001b[39m \u001b[39m8112\u001b[39m \n\u001b[1;32m      2\u001b[0m \u001b[39m# 8112 # the beagle\u001b[39;00m\n\u001b[1;32m      3\u001b[0m \u001b[39m# 1200 # the owl\u001b[39;00m\n\u001b[1;32m      4\u001b[0m \u001b[39m# 11794 # the German shepherd\u001b[39;00m\n\u001b[0;32m   (...)\u001b[0m\n\u001b[1;32m      7\u001b[0m \n\u001b[1;32m      8\u001b[0m \u001b[39m# np.random.randint(len(validloader.dataset))\u001b[39;00m\n\u001b[0;32m---> 10\u001b[0m img, label \u001b[39m=\u001b[39m validloader\u001b[39m.\u001b[39mdataset[idx]\n\u001b[1;32m     11\u001b[0m labels \u001b[39m=\u001b[39m torch\u001b[39m.\u001b[39mas_tensor((label,), device\u001b[39m=\u001b[39msetup[\u001b[39m'\u001b[39m\u001b[39mdevice\u001b[39m\u001b[39m'\u001b[39m])\n\u001b[1;32m     12\u001b[0m ground_truth \u001b[39m=\u001b[39m img\u001b[39m.\u001b[39mto(\u001b[39m*\u001b[39m\u001b[39m*\u001b[39msetup)\u001b[39m.\u001b[39munsqueeze(\u001b[39m0\u001b[39m)\n",
      "\u001b[0;31mNameError\u001b[0m: name 'validloader' is not defined"
     ]
    }
   ],
   "source": [
    "idx = 8112 \n",
    "# 8112 # the beagle\n",
    "# 1200 # the owl\n",
    "# 11794 # the German shepherd\n",
    "# 19449 # the panda\n",
    "\n",
    "\n",
    "# np.random.randint(len(validloader.dataset))\n",
    "\n",
    "img, label = validloader.dataset[idx]\n",
    "labels = torch.as_tensor((label,), device=setup['device'])\n",
    "ground_truth = img.to(**setup).unsqueeze(0)\n",
    "plot(ground_truth);\n",
    "print([trainloader.dataset.classes[l] for l in labels]);"
   ]
  },
  {
   "cell_type": "code",
   "execution_count": null,
   "metadata": {},
   "outputs": [
    {
     "ename": "",
     "evalue": "",
     "output_type": "error",
     "traceback": [
      "\u001b[1;31mThe kernel failed to start as '/Users/feiwang/miniforge3/envs/plato/lib/python3.9/site-packages/psutil/_psutil_osx.cpython-39-darwin.so' could not be imported from '5.9.1 instead of 5.9.5'.\n",
      "\u001b[1;31mClick <a href='https://aka.ms/kernelFailuresModuleImportErrFromFile'>here</a> for more info."
     ]
    }
   ],
   "source": [
    "ground_truth_denormalized = torch.clamp(ground_truth * ds + dm, 0, 1)\n",
    "torchvision.utils.save_image(ground_truth_denormalized, f'{idx}_{arch}_ImageNet_input.png')"
   ]
  },
  {
   "cell_type": "code",
   "execution_count": null,
   "metadata": {},
   "outputs": [
    {
     "ename": "",
     "evalue": "",
     "output_type": "error",
     "traceback": [
      "\u001b[1;31mThe kernel failed to start as '/Users/feiwang/miniforge3/envs/plato/lib/python3.9/site-packages/psutil/_psutil_osx.cpython-39-darwin.so' could not be imported from '5.9.1 instead of 5.9.5'.\n",
      "\u001b[1;31mClick <a href='https://aka.ms/kernelFailuresModuleImportErrFromFile'>here</a> for more info."
     ]
    }
   ],
   "source": [
    "model.zero_grad()\n",
    "target_loss, _, _ = loss_fn(model(ground_truth), labels)\n",
    "input_gradient = torch.autograd.grad(target_loss, model.parameters())\n",
    "input_gradient = [grad.detach() for grad in input_gradient]\n",
    "full_norm = torch.stack([g.norm() for g in input_gradient]).mean()\n",
    "print(f'Full gradient norm is {full_norm:e}.')"
   ]
  },
  {
   "cell_type": "markdown",
   "metadata": {},
   "source": [
    "## Invert the gradient signal"
   ]
  },
  {
   "cell_type": "markdown",
   "metadata": {},
   "source": [
    "## Normal Settings"
   ]
  },
  {
   "cell_type": "code",
   "execution_count": null,
   "metadata": {},
   "outputs": [
    {
     "ename": "",
     "evalue": "",
     "output_type": "error",
     "traceback": [
      "\u001b[1;31mThe kernel failed to start as '/Users/feiwang/miniforge3/envs/plato/lib/python3.9/site-packages/psutil/_psutil_osx.cpython-39-darwin.so' could not be imported from '5.9.1 instead of 5.9.5'.\n",
      "\u001b[1;31mClick <a href='https://aka.ms/kernelFailuresModuleImportErrFromFile'>here</a> for more info."
     ]
    }
   ],
   "source": [
    "config = dict(signed=True,\n",
    "              boxed=True,\n",
    "              cost_fn='sim',\n",
    "              indices='def',\n",
    "              weights='equal',\n",
    "              lr=0.1,\n",
    "              optim='adam',\n",
    "              restarts=8,\n",
    "              max_iterations=24_000,\n",
    "              total_variation=1e-1,\n",
    "              init='randn',\n",
    "              filter='none',\n",
    "              lr_decay=True,\n",
    "              scoring_choice='loss')\n",
    "\n",
    "rec_machine = inversefed.GradientReconstructor(model, (dm, ds), config, num_images=1)\n",
    "output, stats = rec_machine.reconstruct(input_gradient, labels, img_shape=(3, 224, 224))\n",
    "\n",
    "test_mse = (output.detach() - ground_truth).pow(2).mean()\n",
    "feat_mse = (model(output.detach())- model(ground_truth)).pow(2).mean()  \n",
    "test_psnr = inversefed.metrics.psnr(output, ground_truth)\n",
    "\n",
    "plot(output)\n",
    "plt.title(f\"Rec. loss: {stats['opt']:2.4f} | MSE: {test_mse:2.4f} \"\n",
    "          f\"| PSNR: {test_psnr:4.2f} | FMSE: {feat_mse:2.4e} |\");\n",
    "\n",
    "data = inversefed.metrics.activation_errors(model, output, ground_truth)\n",
    "\n",
    "fig, axes = plt.subplots(2, 3, sharey=False, figsize=(14,8))\n",
    "axes[0, 0].semilogy(list(data['se'].values())[:-3])\n",
    "axes[0, 0].set_title('SE')\n",
    "axes[0, 1].semilogy(list(data['mse'].values())[:-3])\n",
    "axes[0, 1].set_title('MSE')\n",
    "axes[0, 2].plot(list(data['sim'].values())[:-3])\n",
    "axes[0, 2].set_title('Similarity')\n",
    "\n",
    "convs = [val for key, val in data['mse'].items() if 'conv' in key]\n",
    "axes[1, 0].semilogy(convs)\n",
    "axes[1, 0].set_title('MSE - conv layers')\n",
    "convs = [val for key, val in data['mse'].items() if 'conv1' in key]\n",
    "axes[1, 1].semilogy(convs)\n",
    "convs = [val for key, val in data['mse'].items() if 'conv2' in key]\n",
    "axes[1, 1].semilogy(convs)\n",
    "axes[1, 1].set_title('MSE - conv1 vs conv2 layers')\n",
    "bns = [val for key, val in data['mse'].items() if 'bn' in key]\n",
    "axes[1, 2].plot(bns)\n",
    "axes[1, 2].set_title('MSE - bn layers')\n",
    "fig.suptitle('Error between layers');"
   ]
  },
  {
   "cell_type": "code",
   "execution_count": null,
   "metadata": {},
   "outputs": [
    {
     "ename": "",
     "evalue": "",
     "output_type": "error",
     "traceback": [
      "\u001b[1;31mThe kernel failed to start as '/Users/feiwang/miniforge3/envs/plato/lib/python3.9/site-packages/psutil/_psutil_osx.cpython-39-darwin.so' could not be imported from '5.9.1 instead of 5.9.5'.\n",
      "\u001b[1;31mClick <a href='https://aka.ms/kernelFailuresModuleImportErrFromFile'>here</a> for more info."
     ]
    }
   ],
   "source": [
    "output_denormalized = torch.clamp(output * ds + dm, 0, 1)\n",
    "torchvision.utils.save_image(output_denormalized, f'{idx}_{arch}_ImageNet_output.png')"
   ]
  },
  {
   "cell_type": "markdown",
   "metadata": {},
   "source": [
    "## Larger step size"
   ]
  },
  {
   "cell_type": "code",
   "execution_count": null,
   "metadata": {},
   "outputs": [
    {
     "ename": "",
     "evalue": "",
     "output_type": "error",
     "traceback": [
      "\u001b[1;31mThe kernel failed to start as '/Users/feiwang/miniforge3/envs/plato/lib/python3.9/site-packages/psutil/_psutil_osx.cpython-39-darwin.so' could not be imported from '5.9.1 instead of 5.9.5'.\n",
      "\u001b[1;31mClick <a href='https://aka.ms/kernelFailuresModuleImportErrFromFile'>here</a> for more info."
     ]
    }
   ],
   "source": [
    "config = dict(signed=True,\n",
    "              boxed=True,\n",
    "              cost_fn='sim',\n",
    "              indices='def',\n",
    "              weights='equal',\n",
    "              lr=1,\n",
    "              optim='adam',\n",
    "              restarts=8,\n",
    "              max_iterations=24_000,\n",
    "              total_variation=1e-1,\n",
    "              init='randn',\n",
    "              filter='none',\n",
    "              lr_decay=True,\n",
    "              scoring_choice='loss')\n",
    "\n",
    "rec_machine = inversefed.GradientReconstructor(model, (dm, ds), config, num_images=1)\n",
    "output, stats = rec_machine.reconstruct(input_gradient, labels, img_shape=(3, 224, 224))\n",
    "\n",
    "test_mse = (output.detach() - ground_truth).pow(2).mean()\n",
    "feat_mse = (model(output.detach())- model(ground_truth)).pow(2).mean()  \n",
    "test_psnr = inversefed.metrics.psnr(output, ground_truth, factor=1/ds)\n",
    "\n",
    "plot(output)\n",
    "plt.title(f\"Rec. loss: {stats['opt']:2.4f} | MSE: {test_mse:2.4f} \"\n",
    "          f\"| PSNR: {test_psnr:4.2f} | FMSE: {feat_mse:2.4e} |\");\n",
    "\n",
    "data = inversefed.metrics.activation_errors(model, output, ground_truth)\n",
    "\n",
    "fig, axes = plt.subplots(2, 3, sharey=False, figsize=(14,8))\n",
    "axes[0, 0].semilogy(list(data['se'].values())[:-3])\n",
    "axes[0, 0].set_title('SE')\n",
    "axes[0, 1].semilogy(list(data['mse'].values())[:-3])\n",
    "axes[0, 1].set_title('MSE')\n",
    "axes[0, 2].plot(list(data['sim'].values())[:-3])\n",
    "axes[0, 2].set_title('Similarity')\n",
    "\n",
    "convs = [val for key, val in data['mse'].items() if 'conv' in key]\n",
    "axes[1, 0].semilogy(convs)\n",
    "axes[1, 0].set_title('MSE - conv layers')\n",
    "convs = [val for key, val in data['mse'].items() if 'conv1' in key]\n",
    "axes[1, 1].semilogy(convs)\n",
    "convs = [val for key, val in data['mse'].items() if 'conv2' in key]\n",
    "axes[1, 1].semilogy(convs)\n",
    "axes[1, 1].set_title('MSE - conv1 vs conv2 layers')\n",
    "bns = [val for key, val in data['mse'].items() if 'bn' in key]\n",
    "axes[1, 2].plot(bns)\n",
    "axes[1, 2].set_title('MSE - bn layers')\n",
    "fig.suptitle('Error between layers');"
   ]
  },
  {
   "cell_type": "markdown",
   "metadata": {},
   "source": [
    "## with median filtering"
   ]
  },
  {
   "cell_type": "code",
   "execution_count": null,
   "metadata": {},
   "outputs": [
    {
     "ename": "",
     "evalue": "",
     "output_type": "error",
     "traceback": [
      "\u001b[1;31mThe kernel failed to start as '/Users/feiwang/miniforge3/envs/plato/lib/python3.9/site-packages/psutil/_psutil_osx.cpython-39-darwin.so' could not be imported from '5.9.1 instead of 5.9.5'.\n",
      "\u001b[1;31mClick <a href='https://aka.ms/kernelFailuresModuleImportErrFromFile'>here</a> for more info."
     ]
    }
   ],
   "source": [
    "config = dict(signed=True,\n",
    "              boxed=True,\n",
    "              cost_fn='sim',\n",
    "              indices='def',\n",
    "              weights='equal',\n",
    "              lr=1,\n",
    "              optim='adam',\n",
    "              restarts=8,\n",
    "              max_iterations=24_000,\n",
    "              total_variation=1e-1,\n",
    "              init='randn',\n",
    "              filter='median',\n",
    "              lr_decay=True,\n",
    "              scoring_choice='loss')\n",
    "\n",
    "rec_machine = inversefed.GradientReconstructor(model, (dm, ds), config, num_images=1)\n",
    "output, stats = rec_machine.reconstruct(input_gradient, labels, img_shape=(3, 224, 224))\n",
    "\n",
    "test_mse = (output.detach() - ground_truth).pow(2).mean()\n",
    "feat_mse = (model(output.detach())- model(ground_truth)).pow(2).mean()  \n",
    "test_psnr = inversefed.metrics.psnr(output, ground_truth)\n",
    "\n",
    "plot(output)\n",
    "plt.title(f\"Rec. loss: {stats['opt']:2.4f} | MSE: {test_mse:2.4f} \"\n",
    "          f\"| PSNR: {test_psnr:4.2f} | FMSE: {feat_mse:2.4e} |\");\n",
    "\n",
    "data = inversefed.metrics.activation_errors(model, output, ground_truth)\n",
    "\n",
    "fig, axes = plt.subplots(2, 3, sharey=False, figsize=(14,8))\n",
    "axes[0, 0].semilogy(list(data['se'].values())[:-3])\n",
    "axes[0, 0].set_title('SE')\n",
    "axes[0, 1].semilogy(list(data['mse'].values())[:-3])\n",
    "axes[0, 1].set_title('MSE')\n",
    "axes[0, 2].plot(list(data['sim'].values())[:-3])\n",
    "axes[0, 2].set_title('Similarity')\n",
    "\n",
    "convs = [val for key, val in data['mse'].items() if 'conv' in key]\n",
    "axes[1, 0].semilogy(convs)\n",
    "axes[1, 0].set_title('MSE - conv layers')\n",
    "convs = [val for key, val in data['mse'].items() if 'conv1' in key]\n",
    "axes[1, 1].semilogy(convs)\n",
    "convs = [val for key, val in data['mse'].items() if 'conv2' in key]\n",
    "axes[1, 1].semilogy(convs)\n",
    "axes[1, 1].set_title('MSE - conv1 vs conv2 layers')\n",
    "bns = [val for key, val in data['mse'].items() if 'bn' in key]\n",
    "axes[1, 2].plot(bns)\n",
    "axes[1, 2].set_title('MSE - bn layers')\n",
    "fig.suptitle('Error between layers');"
   ]
  }
 ],
 "metadata": {
  "kernelspec": {
   "display_name": "Python 3",
   "language": "python",
   "name": "python3"
  },
  "language_info": {
   "codemirror_mode": {
    "name": "ipython",
    "version": 3
   },
   "file_extension": ".py",
   "mimetype": "text/x-python",
   "name": "python",
   "nbconvert_exporter": "python",
   "pygments_lexer": "ipython3",
   "version": "3.9.15"
  }
 },
 "nbformat": 4,
 "nbformat_minor": 4
}
